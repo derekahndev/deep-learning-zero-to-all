{
 "cells": [
  {
   "cell_type": "code",
   "execution_count": 1,
   "metadata": {},
   "outputs": [
    {
     "name": "stdout",
     "output_type": "stream",
     "text": [
      "2.3.1\n"
     ]
    }
   ],
   "source": [
    "import numpy as np\n",
    "import matplotlib.pyplot as plt\n",
    "%matplotlib inline\n",
    "import tensorflow as tf\n",
    "\n",
    "tf.random.set_seed(777)  # for reproducibility\n",
    "\n",
    "print(tf.__version__)"
   ]
  },
  {
   "cell_type": "code",
   "execution_count": 2,
   "metadata": {},
   "outputs": [
    {
     "data": {
      "image/png": "[encoded data removed]",
      "text/plain": [
       "<Figure size 432x288 with 1 Axes>"
      ]
     },
     "metadata": {
      "needs_background": "light"
     },
     "output_type": "display_data"
    }
   ],
   "source": [
    "x_data = [[0, 0],\n",
    "          [0, 1],\n",
    "          [1, 0],\n",
    "          [1, 1]]\n",
    "y_data = [[0],\n",
    "          [1],\n",
    "          [1],\n",
    "          [0]]\n",
    "\n",
    "plt.scatter(x_data[0][0], x_data[0][1], c='red', marker='^')\n",
    "plt.scatter(x_data[3][0], x_data[3][1], c='red', marker='^')\n",
    "plt.scatter(x_data[1][0], x_data[1][1], c='blue', marker='^')\n",
    "plt.scatter(x_data[2][0], x_data[2][1], c='blue', marker='^')\n",
    "\n",
    "plt.xlabel(\"x1\")\n",
    "plt.ylabel(\"x2\")\n",
    "plt.show()"
   ]
  },
  {
   "cell_type": "code",
   "execution_count": 18,
   "metadata": {},
   "outputs": [],
   "source": [
    "dataset = tf.data.Dataset.from_tensor_slices((x_data, y_data)).batch(len(x_data))\n",
    "nb_classes = 10\n",
    "\n",
    "class wide_deep_nn():\n",
    "    def __init__(self, nb_classes):\n",
    "        super(wide_deep_nn, self).__init__()        \n",
    "     \n",
    "        self.W1 = tf.Variable(tf.random.normal((2, nb_classes)), name='weight1')\n",
    "        self.b1 = tf.Variable(tf.random.normal((nb_classes,)), name='bias1')\n",
    "\n",
    "        self.W2 = tf.Variable(tf.random.normal((nb_classes, nb_classes)), name='weight2')\n",
    "        self.b2 = tf.Variable(tf.random.normal((nb_classes,)), name='bias2')\n",
    "\n",
    "        self.W3 = tf.Variable(tf.random.normal((nb_classes, nb_classes)), name='weight3')\n",
    "        self.b3 = tf.Variable(tf.random.normal((nb_classes,)), name='bias3')\n",
    "\n",
    "        self.W4 = tf.Variable(tf.random.normal((nb_classes, 1)), name='weight4')\n",
    "        self.b4 = tf.Variable(tf.random.normal((1,)), name='bias4')\n",
    "        \n",
    "        self.variables = [self.W1, self.b1, self.W2, self.b2, self.W3, self.b3, self.W4, self.b4]\n",
    "        \n",
    "    def preprocess_data(self, features, labels):\n",
    "        features = tf.cast(features, tf.float32)\n",
    "        labels = tf.cast(labels, tf.float32)\n",
    "        return features, labels\n",
    "        \n",
    "    def deep_nn(self, features):\n",
    "        layer1 = tf.sigmoid(tf.matmul(features, self.W1) + self.b1)\n",
    "        layer2 = tf.sigmoid(tf.matmul(layer1, self.W2) + self.b2)\n",
    "        layer3 = tf.sigmoid(tf.matmul(layer2, self.W3) + self.b3)\n",
    "        hypothesis = tf.sigmoid(tf.matmul(layer3, self.W4) + self.b4)\n",
    "        return hypothesis\n",
    "    \n",
    "    def loss_fn(self, hypothesis, features, labels):\n",
    "        cost = -tf.reduce_mean(labels * tf.math.log(hypothesis) + (1 - labels) * tf.math.log(1 - hypothesis))\n",
    "        return cost\n",
    "\n",
    "    def accuracy_fn(self, hypothesis, labels):\n",
    "        predicted = tf.cast(hypothesis > 0.5, dtype=tf.float32)\n",
    "        accuracy = tf.reduce_mean(tf.cast(tf.equal(predicted, labels), dtype=tf.float32))\n",
    "        return accuracy\n",
    "\n",
    "    def grad(self, hypothesis, features, labels):\n",
    "        with tf.GradientTape() as tape:\n",
    "            loss_value = self.loss_fn(self.deep_nn(features), features, labels)\n",
    "        return tape.gradient(loss_value, self.variables)\n",
    "    \n",
    "    def fit(self, dataset, EPOCHS=20000, verbose=500):\n",
    "        optimizer =  tf.keras.optimizers.SGD(learning_rate=0.01)\n",
    "        for step in range(EPOCHS):\n",
    "            for features, labels  in dataset:\n",
    "                features, labels = self.preprocess_data(features, labels)\n",
    "                grads = self.grad(self.deep_nn(features), features, labels)\n",
    "                optimizer.apply_gradients(grads_and_vars=zip(grads, self.variables))\n",
    "                if step % verbose == 0:\n",
    "                    print(\"Iter: {}, Loss: {:.4f}\".format(step, self.loss_fn(self.deep_nn(features), features, labels)))\n",
    "\n",
    "    def test_model(self, x_data, y_data):\n",
    "        x_data, y_data = self.preprocess_data(x_data, y_data)\n",
    "        test_acc = self.accuracy_fn(self.deep_nn(x_data), y_data)\n",
    "        print(\"Testset Accuracy: {:.4f}\".format(test_acc))"
   ]
  },
  {
   "cell_type": "code",
   "execution_count": 19,
   "metadata": {},
   "outputs": [],
   "source": [
    "model = wide_deep_nn(nb_classes)"
   ]
  },
  {
   "cell_type": "code",
   "execution_count": 20,
   "metadata": {},
   "outputs": [
    {
     "name": "stdout",
     "output_type": "stream",
     "text": [
      "Iter: 0, Loss: 0.8900\n",
      "Iter: 500, Loss: 0.6909\n",
      "Iter: 1000, Loss: 0.6896\n",
      "Iter: 1500, Loss: 0.6883\n",
      "Iter: 2000, Loss: 0.6870\n",
      "Iter: 2500, Loss: 0.6856\n",
      "Iter: 3000, Loss: 0.6842\n",
      "Iter: 3500, Loss: 0.6827\n",
      "Iter: 4000, Loss: 0.6811\n",
      "Iter: 4500, Loss: 0.6793\n",
      "Iter: 5000, Loss: 0.6774\n",
      "Iter: 5500, Loss: 0.6752\n",
      "Iter: 6000, Loss: 0.6728\n",
      "Iter: 6500, Loss: 0.6702\n",
      "Iter: 7000, Loss: 0.6672\n",
      "Iter: 7500, Loss: 0.6637\n",
      "Iter: 8000, Loss: 0.6599\n",
      "Iter: 8500, Loss: 0.6554\n",
      "Iter: 9000, Loss: 0.6504\n",
      "Iter: 9500, Loss: 0.6447\n",
      "Iter: 10000, Loss: 0.6381\n",
      "Iter: 10500, Loss: 0.6307\n",
      "Iter: 11000, Loss: 0.6223\n",
      "Iter: 11500, Loss: 0.6129\n",
      "Iter: 12000, Loss: 0.6025\n",
      "Iter: 12500, Loss: 0.5909\n",
      "Iter: 13000, Loss: 0.5782\n",
      "Iter: 13500, Loss: 0.5645\n",
      "Iter: 14000, Loss: 0.5497\n",
      "Iter: 14500, Loss: 0.5338\n",
      "Iter: 15000, Loss: 0.5168\n",
      "Iter: 15500, Loss: 0.4985\n",
      "Iter: 16000, Loss: 0.4783\n",
      "Iter: 16500, Loss: 0.4552\n",
      "Iter: 17000, Loss: 0.4275\n",
      "Iter: 17500, Loss: 0.3928\n",
      "Iter: 18000, Loss: 0.3492\n",
      "Iter: 18500, Loss: 0.2975\n",
      "Iter: 19000, Loss: 0.2436\n",
      "Iter: 19500, Loss: 0.1948\n"
     ]
    }
   ],
   "source": [
    "model.fit(dataset)"
   ]
  },
  {
   "cell_type": "code",
   "execution_count": 21,
   "metadata": {},
   "outputs": [
    {
     "name": "stdout",
     "output_type": "stream",
     "text": [
      "Testset Accuracy: 1.0000\n"
     ]
    }
   ],
   "source": [
    "model.test_model(x_data, y_data)"
   ]
  },
  {
   "cell_type": "code",
   "execution_count": null,
   "metadata": {},
   "outputs": [],
   "source": []
  }
 ],
 "metadata": {
  "kernelspec": {
   "display_name": "Python 3",
   "language": "python",
   "name": "python3"
  },
  "language_info": {
   "codemirror_mode": {
    "name": "ipython",
    "version": 3
   },
   "file_extension": ".py",
   "mimetype": "text/x-python",
   "name": "python",
   "nbconvert_exporter": "python",
   "pygments_lexer": "ipython3",
   "version": "3.7.6"
  }
 },
 "nbformat": 4,
 "nbformat_minor": 4
}
